{
 "cells": [
  {
   "cell_type": "markdown",
   "id": "5669c41b",
   "metadata": {},
   "source": [
    "# BASICS OF PYTHON"
   ]
  },
  {
   "cell_type": "code",
   "execution_count": 1,
   "id": "adae81eb",
   "metadata": {},
   "outputs": [
    {
     "name": "stdout",
     "output_type": "stream",
     "text": [
      "Aakriti\n"
     ]
    }
   ],
   "source": [
    "print('Aakriti')   ## for printing"
   ]
  },
  {
   "cell_type": "code",
   "execution_count": 2,
   "id": "160ec0fd",
   "metadata": {},
   "outputs": [
    {
     "name": "stdout",
     "output_type": "stream",
     "text": [
      "Aakriti\n"
     ]
    },
    {
     "data": {
      "text/plain": [
       "NoneType"
      ]
     },
     "execution_count": 2,
     "metadata": {},
     "output_type": "execute_result"
    }
   ],
   "source": [
    "type(print('Aakriti'))   ## type is used to check the datatype and should be in small letter"
   ]
  },
  {
   "cell_type": "code",
   "execution_count": 3,
   "id": "eee45671",
   "metadata": {},
   "outputs": [],
   "source": [
    "a = 5"
   ]
  },
  {
   "cell_type": "code",
   "execution_count": 4,
   "id": "343a505b",
   "metadata": {},
   "outputs": [
    {
     "name": "stdout",
     "output_type": "stream",
     "text": [
      "5\n"
     ]
    }
   ],
   "source": [
    "print(a)"
   ]
  },
  {
   "cell_type": "code",
   "execution_count": 5,
   "id": "937dbee2",
   "metadata": {},
   "outputs": [
    {
     "data": {
      "text/plain": [
       "int"
      ]
     },
     "execution_count": 5,
     "metadata": {},
     "output_type": "execute_result"
    }
   ],
   "source": [
    "type(a)"
   ]
  },
  {
   "cell_type": "code",
   "execution_count": 6,
   "id": "34a5af0c",
   "metadata": {},
   "outputs": [],
   "source": [
    "b = 57.8 "
   ]
  },
  {
   "cell_type": "code",
   "execution_count": 7,
   "id": "9af8569d",
   "metadata": {},
   "outputs": [
    {
     "name": "stdout",
     "output_type": "stream",
     "text": [
      "57.8\n"
     ]
    }
   ],
   "source": [
    "print(b)"
   ]
  },
  {
   "cell_type": "code",
   "execution_count": 8,
   "id": "3e994c65",
   "metadata": {},
   "outputs": [
    {
     "data": {
      "text/plain": [
       "float"
      ]
     },
     "execution_count": 8,
     "metadata": {},
     "output_type": "execute_result"
    }
   ],
   "source": [
    "type(b)"
   ]
  },
  {
   "cell_type": "code",
   "execution_count": 9,
   "id": "971456d1",
   "metadata": {},
   "outputs": [
    {
     "name": "stdout",
     "output_type": "stream",
     "text": [
      "enter first number\n",
      "enter second number\n",
      "result is :  \n"
     ]
    }
   ],
   "source": [
    "num1 = input(\"enter first number\")\n",
    "num2 = input(\"enter second number\")\n",
    "\n",
    "result = num1 + num2\n",
    "\n",
    "print(\"result is : \", result)"
   ]
  },
  {
   "cell_type": "code",
   "execution_count": 10,
   "id": "36f63f45",
   "metadata": {},
   "outputs": [
    {
     "name": "stdout",
     "output_type": "stream",
     "text": [
      "enter first number\n"
     ]
    },
    {
     "ename": "ValueError",
     "evalue": "invalid literal for int() with base 10: ''",
     "output_type": "error",
     "traceback": [
      "\u001b[1;31m---------------------------------------------------------------------------\u001b[0m",
      "\u001b[1;31mValueError\u001b[0m                                Traceback (most recent call last)",
      "Input \u001b[1;32mIn [10]\u001b[0m, in \u001b[0;36m<cell line: 1>\u001b[1;34m()\u001b[0m\n\u001b[1;32m----> 1\u001b[0m num1 \u001b[38;5;241m=\u001b[39m \u001b[38;5;28;43mint\u001b[39;49m\u001b[43m(\u001b[49m\u001b[38;5;28;43minput\u001b[39;49m\u001b[43m(\u001b[49m\u001b[38;5;124;43m\"\u001b[39;49m\u001b[38;5;124;43menter first number\u001b[39;49m\u001b[38;5;124;43m\"\u001b[39;49m\u001b[43m)\u001b[49m\u001b[43m)\u001b[49m\n\u001b[0;32m      2\u001b[0m num2 \u001b[38;5;241m=\u001b[39m \u001b[38;5;28mint\u001b[39m(\u001b[38;5;28minput\u001b[39m(\u001b[38;5;124m\"\u001b[39m\u001b[38;5;124menter second number\u001b[39m\u001b[38;5;124m\"\u001b[39m))\n",
      "\u001b[1;31mValueError\u001b[0m: invalid literal for int() with base 10: ''"
     ]
    }
   ],
   "source": [
    "num1 = int(input(\"enter first number\"))\n",
    "num2 = int(input(\"enter second number\"))   ## int is used to do calculate"
   ]
  },
  {
   "cell_type": "code",
   "execution_count": null,
   "id": "4bbd73e6",
   "metadata": {},
   "outputs": [],
   "source": [
    "sum_num = num1 + num2\n",
    "diff_num = num1 - num2\n",
    "mult_num = num1 * num2\n",
    "div_num = num1 / num2\n",
    "mod_num = num1 % num2\n",
    "quot_num = num1 // num2"
   ]
  },
  {
   "cell_type": "code",
   "execution_count": null,
   "id": "2458112b",
   "metadata": {},
   "outputs": [],
   "source": [
    "print(\"Sum of two numbers\", num1,\" and \", num2,\" is \",sum_num)\n",
    "print(\"Diff of two numbers\", num1,\" and \", num2,\" is\",diff_num)\n",
    "print(\"Mult of two numbers\", num1,\" and \", num2, \" is \",mult_num)\n",
    "print(\"Div of two numbers\", num1,\" and \", num2,\" is \",div_num)\n",
    "print(\"Mod of two numbers\", num1,\" and \", num2,\" is \",mod_num)\n",
    "print(\"Quot of two numbers\", num1,\" and \", num2,\" is \",quot_num)"
   ]
  },
  {
   "cell_type": "markdown",
   "id": "df0151c8",
   "metadata": {},
   "source": [
    "# range function"
   ]
  },
  {
   "cell_type": "code",
   "execution_count": 11,
   "id": "ac6a2d3d",
   "metadata": {},
   "outputs": [
    {
     "data": {
      "text/plain": [
       "range(0, 10)"
      ]
     },
     "execution_count": 11,
     "metadata": {},
     "output_type": "execute_result"
    }
   ],
   "source": [
    "range(10)     ### click shift+tab key to see the function use.\n",
    "              ### Range will give you number from 0 to n-1"
   ]
  },
  {
   "cell_type": "code",
   "execution_count": 12,
   "id": "11711548",
   "metadata": {},
   "outputs": [
    {
     "name": "stdout",
     "output_type": "stream",
     "text": [
      "range(0, 10)\n"
     ]
    }
   ],
   "source": [
    "print(range(10))   "
   ]
  },
  {
   "cell_type": "code",
   "execution_count": 13,
   "id": "1d3bdb34",
   "metadata": {},
   "outputs": [
    {
     "data": {
      "text/plain": [
       "[3, 4, 5, 6, 7, 8, 9]"
      ]
     },
     "execution_count": 13,
     "metadata": {},
     "output_type": "execute_result"
    }
   ],
   "source": [
    "list(range(3,10))  ## print numbers from 3 to 9"
   ]
  },
  {
   "cell_type": "code",
   "execution_count": 14,
   "id": "03b314a7",
   "metadata": {},
   "outputs": [
    {
     "data": {
      "text/plain": [
       "[3, 5, 7, 9]"
      ]
     },
     "execution_count": 14,
     "metadata": {},
     "output_type": "execute_result"
    }
   ],
   "source": [
    "list(range(3,10,2))    ## 2 here means jump 1 number and give the 2nd number value. this is called Step sizing."
   ]
  },
  {
   "cell_type": "code",
   "execution_count": 15,
   "id": "eb1859e8",
   "metadata": {},
   "outputs": [
    {
     "data": {
      "text/plain": [
       "[3, 6, 9, 12, 15, 18]"
      ]
     },
     "execution_count": 15,
     "metadata": {},
     "output_type": "execute_result"
    }
   ],
   "source": [
    "list(range(3,20,3))     ## skipping 3 numbers in between"
   ]
  },
  {
   "cell_type": "code",
   "execution_count": 16,
   "id": "ca58436e",
   "metadata": {},
   "outputs": [
    {
     "ename": "TypeError",
     "evalue": "'float' object cannot be interpreted as an integer",
     "output_type": "error",
     "traceback": [
      "\u001b[1;31m---------------------------------------------------------------------------\u001b[0m",
      "\u001b[1;31mTypeError\u001b[0m                                 Traceback (most recent call last)",
      "Input \u001b[1;32mIn [16]\u001b[0m, in \u001b[0;36m<cell line: 1>\u001b[1;34m()\u001b[0m\n\u001b[1;32m----> 1\u001b[0m \u001b[38;5;28mlist\u001b[39m(\u001b[38;5;28;43mrange\u001b[39;49m\u001b[43m(\u001b[49m\u001b[38;5;241;43m35.10\u001b[39;49m\u001b[43m,\u001b[49m\u001b[38;5;241;43m45.5\u001b[39;49m\u001b[43m,\u001b[49m\u001b[38;5;241;43m3\u001b[39;49m\u001b[43m)\u001b[49m)\n",
      "\u001b[1;31mTypeError\u001b[0m: 'float' object cannot be interpreted as an integer"
     ]
    }
   ],
   "source": [
    "list(range(35.10,45.5,3))      ##'float' object cannot be interpreted as an integer"
   ]
  },
  {
   "cell_type": "code",
   "execution_count": 17,
   "id": "a88f1444",
   "metadata": {},
   "outputs": [
    {
     "data": {
      "text/plain": [
       "[35, 38, 41, 44]"
      ]
     },
     "execution_count": 17,
     "metadata": {},
     "output_type": "execute_result"
    }
   ],
   "source": [
    "list(range(int(35.10),int(45.5),3))"
   ]
  },
  {
   "cell_type": "code",
   "execution_count": 18,
   "id": "c3c07156",
   "metadata": {},
   "outputs": [
    {
     "data": {
      "text/plain": [
       "[]"
      ]
     },
     "execution_count": 18,
     "metadata": {},
     "output_type": "execute_result"
    }
   ],
   "source": [
    "list(range(3,45,-3))      ### there is no syntax error but it will give an empty list because "
   ]
  },
  {
   "cell_type": "code",
   "execution_count": 19,
   "id": "48ad3204",
   "metadata": {},
   "outputs": [
    {
     "data": {
      "text/plain": [
       "[45, 42, 39, 36, 33, 30, 27, 24, 21, 18, 15, 12, 9, 6]"
      ]
     },
     "execution_count": 19,
     "metadata": {},
     "output_type": "execute_result"
    }
   ],
   "source": [
    "list(range(45,3,-3))    ## can go backwards if the provided starting number is bigger"
   ]
  },
  {
   "cell_type": "code",
   "execution_count": 20,
   "id": "abe00fb9",
   "metadata": {},
   "outputs": [
    {
     "data": {
      "text/plain": [
       "[-45, -42, -39, -36, -33, -30, -27, -24, -21, -18, -15, -12, -9, -6]"
      ]
     },
     "execution_count": 20,
     "metadata": {},
     "output_type": "execute_result"
    }
   ],
   "source": [
    "list(range(-45,-3,3))"
   ]
  },
  {
   "cell_type": "code",
   "execution_count": 21,
   "id": "03420959",
   "metadata": {},
   "outputs": [],
   "source": [
    "name = \"INDIA\""
   ]
  },
  {
   "cell_type": "code",
   "execution_count": 22,
   "id": "67423e34",
   "metadata": {},
   "outputs": [
    {
     "data": {
      "text/plain": [
       "str"
      ]
     },
     "execution_count": 22,
     "metadata": {},
     "output_type": "execute_result"
    }
   ],
   "source": [
    "type(name)"
   ]
  },
  {
   "cell_type": "code",
   "execution_count": 23,
   "id": "72509ac3",
   "metadata": {},
   "outputs": [],
   "source": [
    "len_name = len(name)                                 ## len means length"
   ]
  },
  {
   "cell_type": "code",
   "execution_count": 24,
   "id": "0f32979a",
   "metadata": {},
   "outputs": [
    {
     "name": "stdout",
     "output_type": "stream",
     "text": [
      "5\n"
     ]
    }
   ],
   "source": [
    "print(len_name)"
   ]
  },
  {
   "cell_type": "code",
   "execution_count": 25,
   "id": "68f070a8",
   "metadata": {},
   "outputs": [
    {
     "data": {
      "text/plain": [
       "[0, 1, 2, 3, 4]"
      ]
     },
     "execution_count": 25,
     "metadata": {},
     "output_type": "execute_result"
    }
   ],
   "source": [
    "list(range(len_name))"
   ]
  },
  {
   "cell_type": "markdown",
   "id": "c742e765",
   "metadata": {},
   "source": [
    "# List"
   ]
  },
  {
   "cell_type": "code",
   "execution_count": 26,
   "id": "7369d2c2",
   "metadata": {},
   "outputs": [],
   "source": [
    "list_items = []    ##square bracket stands for list\n",
    "                   ## List is a datastructure"
   ]
  },
  {
   "cell_type": "code",
   "execution_count": 27,
   "id": "857b624a",
   "metadata": {},
   "outputs": [
    {
     "name": "stdout",
     "output_type": "stream",
     "text": [
      "[]\n"
     ]
    }
   ],
   "source": [
    "print(list_items)"
   ]
  },
  {
   "cell_type": "code",
   "execution_count": 79,
   "id": "af1e02d1",
   "metadata": {},
   "outputs": [],
   "source": [
    "list_items = [\"hello\",55,67.53,'a',\"anand\",45,\"India\",34.56,98,True,False]"
   ]
  },
  {
   "cell_type": "code",
   "execution_count": 29,
   "id": "65f7c355",
   "metadata": {},
   "outputs": [
    {
     "name": "stdout",
     "output_type": "stream",
     "text": [
      "['hello', 55, 67.53, 'a', 'anand', 45, 'India', 34.56, 98, True, False]\n"
     ]
    }
   ],
   "source": [
    "print(list_items)"
   ]
  },
  {
   "cell_type": "code",
   "execution_count": 30,
   "id": "afba7bd2",
   "metadata": {},
   "outputs": [],
   "source": [
    "len_list = len(list_items)"
   ]
  },
  {
   "cell_type": "code",
   "execution_count": 31,
   "id": "dbd3fcc7",
   "metadata": {},
   "outputs": [
    {
     "name": "stdout",
     "output_type": "stream",
     "text": [
      "11\n"
     ]
    }
   ],
   "source": [
    "print(len_list)"
   ]
  },
  {
   "cell_type": "code",
   "execution_count": 32,
   "id": "d84e9e5d",
   "metadata": {},
   "outputs": [
    {
     "data": {
      "text/plain": [
       "45"
      ]
     },
     "execution_count": 32,
     "metadata": {},
     "output_type": "execute_result"
    }
   ],
   "source": [
    "list_items[5]        ## accessing the sixth element"
   ]
  },
  {
   "cell_type": "code",
   "execution_count": 33,
   "id": "4a2b882a",
   "metadata": {},
   "outputs": [
    {
     "data": {
      "text/plain": [
       "list"
      ]
     },
     "execution_count": 33,
     "metadata": {},
     "output_type": "execute_result"
    }
   ],
   "source": [
    "type(list_items)"
   ]
  },
  {
   "cell_type": "code",
   "execution_count": 34,
   "id": "df06a870",
   "metadata": {},
   "outputs": [
    {
     "data": {
      "text/plain": [
       "[67.53, 'a', 'anand', 45, 'India', 34.56, 98, True, False]"
      ]
     },
     "execution_count": 34,
     "metadata": {},
     "output_type": "execute_result"
    }
   ],
   "source": [
    "list_items[2:]          ## give all the items from 3rd onwards"
   ]
  },
  {
   "cell_type": "code",
   "execution_count": 35,
   "id": "a03147c0",
   "metadata": {},
   "outputs": [
    {
     "data": {
      "text/plain": [
       "['hello', 55, 67.53, 'a', 'anand', 45, 'India', 34.56, 98, True, False]"
      ]
     },
     "execution_count": 35,
     "metadata": {},
     "output_type": "execute_result"
    }
   ],
   "source": [
    "list_items[:]                   ## [:] gives all the items in the list"
   ]
  },
  {
   "cell_type": "code",
   "execution_count": 36,
   "id": "3e9eb41e",
   "metadata": {},
   "outputs": [
    {
     "data": {
      "text/plain": [
       "['hello', 55, 67.53, 'a']"
      ]
     },
     "execution_count": 36,
     "metadata": {},
     "output_type": "execute_result"
    }
   ],
   "source": [
    "list_items[:4]                       ## [:xx] gives items uptil the number after :"
   ]
  },
  {
   "cell_type": "code",
   "execution_count": 37,
   "id": "3c727add",
   "metadata": {},
   "outputs": [
    {
     "data": {
      "text/plain": [
       "['a', 'anand', 45, 'India']"
      ]
     },
     "execution_count": 37,
     "metadata": {},
     "output_type": "execute_result"
    }
   ],
   "source": [
    "list_items[3:7]   "
   ]
  },
  {
   "cell_type": "code",
   "execution_count": 38,
   "id": "2efbe29a",
   "metadata": {},
   "outputs": [
    {
     "data": {
      "text/plain": [
       "[False, True, 98, 34.56, 'India', 45, 'anand', 'a', 67.53, 55, 'hello']"
      ]
     },
     "execution_count": 38,
     "metadata": {},
     "output_type": "execute_result"
    }
   ],
   "source": [
    "list_items[::-1]           ## gives reverse items in the list"
   ]
  },
  {
   "cell_type": "code",
   "execution_count": 39,
   "id": "2e521a1d",
   "metadata": {},
   "outputs": [
    {
     "data": {
      "text/plain": [
       "[67.53, 'anand', 'India', 98]"
      ]
     },
     "execution_count": 39,
     "metadata": {},
     "output_type": "execute_result"
    }
   ],
   "source": [
    "list_items[2:9:2]      ## gives items from 3rd range to 8th skipping 1 step (step-size)"
   ]
  },
  {
   "cell_type": "code",
   "execution_count": 40,
   "id": "d581a158",
   "metadata": {},
   "outputs": [
    {
     "ename": "TypeError",
     "evalue": "can only concatenate list (not \"str\") to list",
     "output_type": "error",
     "traceback": [
      "\u001b[1;31m---------------------------------------------------------------------------\u001b[0m",
      "\u001b[1;31mTypeError\u001b[0m                                 Traceback (most recent call last)",
      "Input \u001b[1;32mIn [40]\u001b[0m, in \u001b[0;36m<cell line: 1>\u001b[1;34m()\u001b[0m\n\u001b[1;32m----> 1\u001b[0m \u001b[43m[\u001b[49m\u001b[38;5;241;43m1\u001b[39;49m\u001b[43m,\u001b[49m\u001b[38;5;241;43m2\u001b[39;49m\u001b[43m,\u001b[49m\u001b[38;5;241;43m36.45\u001b[39;49m\u001b[43m,\u001b[49m\u001b[38;5;124;43m\"\u001b[39;49m\u001b[38;5;124;43miNeuron\u001b[39;49m\u001b[38;5;124;43m\"\u001b[39;49m\u001b[43m]\u001b[49m\u001b[43m \u001b[49m\u001b[38;5;241;43m+\u001b[39;49m\u001b[43m \u001b[49m\u001b[38;5;124;43m\"\u001b[39;49m\u001b[38;5;124;43mAakriti\u001b[39;49m\u001b[38;5;124;43m\"\u001b[39;49m\n",
      "\u001b[1;31mTypeError\u001b[0m: can only concatenate list (not \"str\") to list"
     ]
    }
   ],
   "source": [
    "[1,2,36.45,\"iNeuron\"] + \"Aakriti\"  ## Aakriti here is a string so we cant add it"
   ]
  },
  {
   "cell_type": "code",
   "execution_count": 41,
   "id": "f14b4464",
   "metadata": {},
   "outputs": [
    {
     "data": {
      "text/plain": [
       "[1, 2, 36.45, 'iNeuron', 23, 45, 'Hello']"
      ]
     },
     "execution_count": 41,
     "metadata": {},
     "output_type": "execute_result"
    }
   ],
   "source": [
    "[1,2,36.45,\"iNeuron\"] + [23,45,\"Hello\"]     ## list should be concanetated with list only"
   ]
  },
  {
   "cell_type": "code",
   "execution_count": 42,
   "id": "cc92052a",
   "metadata": {},
   "outputs": [
    {
     "data": {
      "text/plain": [
       "[1, 2, 36.5, 'iNeuron', 'aakriti']"
      ]
     },
     "execution_count": 42,
     "metadata": {},
     "output_type": "execute_result"
    }
   ],
   "source": [
    "[1,2,36.5,\"iNeuron\"] + [\"aakriti\"]"
   ]
  },
  {
   "cell_type": "markdown",
   "id": "4dea1b61",
   "metadata": {},
   "source": [
    "# Append function"
   ]
  },
  {
   "cell_type": "code",
   "execution_count": 43,
   "id": "bb54be4d",
   "metadata": {},
   "outputs": [
    {
     "data": {
      "text/plain": [
       "['hello', 55, 67.53, 'a', 'anand', 45, 'India', 34.56, 98, True, False]"
      ]
     },
     "execution_count": 43,
     "metadata": {},
     "output_type": "execute_result"
    }
   ],
   "source": [
    "list_items"
   ]
  },
  {
   "cell_type": "code",
   "execution_count": 44,
   "id": "27491098",
   "metadata": {},
   "outputs": [
    {
     "name": "stdout",
     "output_type": "stream",
     "text": [
      "['hello', 55, 67.53, 'a', 'anand', 45, 'India', 34.56, 98, True, False]\n"
     ]
    }
   ],
   "source": [
    "print(list_items)        ## either above or this both will give you same output"
   ]
  },
  {
   "cell_type": "code",
   "execution_count": 45,
   "id": "4f128001",
   "metadata": {},
   "outputs": [],
   "source": [
    "name  = \"Aakriti\""
   ]
  },
  {
   "cell_type": "code",
   "execution_count": 46,
   "id": "b8dca5fc",
   "metadata": {},
   "outputs": [
    {
     "data": {
      "text/plain": [
       "'t'"
      ]
     },
     "execution_count": 46,
     "metadata": {},
     "output_type": "execute_result"
    }
   ],
   "source": [
    "name[len(name)-2]"
   ]
  },
  {
   "cell_type": "code",
   "execution_count": 47,
   "id": "b9937b13",
   "metadata": {},
   "outputs": [
    {
     "ename": "TypeError",
     "evalue": "'str' object does not support item assignment",
     "output_type": "error",
     "traceback": [
      "\u001b[1;31m---------------------------------------------------------------------------\u001b[0m",
      "\u001b[1;31mTypeError\u001b[0m                                 Traceback (most recent call last)",
      "Input \u001b[1;32mIn [47]\u001b[0m, in \u001b[0;36m<cell line: 1>\u001b[1;34m()\u001b[0m\n\u001b[1;32m----> 1\u001b[0m name[\u001b[38;5;28mlen\u001b[39m(name)\u001b[38;5;241m-\u001b[39m\u001b[38;5;241m2\u001b[39m] \u001b[38;5;241m=\u001b[39m \u001b[38;5;124m\"\u001b[39m\u001b[38;5;124mm\u001b[39m\u001b[38;5;124m\"\u001b[39m\n",
      "\u001b[1;31mTypeError\u001b[0m: 'str' object does not support item assignment"
     ]
    }
   ],
   "source": [
    "name[len(name)-2] = \"m\"       ## Strings are immutable(you cannot change the contents)"
   ]
  },
  {
   "cell_type": "code",
   "execution_count": 48,
   "id": "f051521f",
   "metadata": {},
   "outputs": [],
   "source": [
    "### Homework - how to make string Mutable?"
   ]
  },
  {
   "cell_type": "code",
   "execution_count": 49,
   "id": "b7ec09aa",
   "metadata": {},
   "outputs": [],
   "source": [
    "list_items.append(\"Aakriti singh\")    ## Adding items in the end of the list"
   ]
  },
  {
   "cell_type": "code",
   "execution_count": 50,
   "id": "2a32bd5d",
   "metadata": {},
   "outputs": [
    {
     "data": {
      "text/plain": [
       "['hello',\n",
       " 55,\n",
       " 67.53,\n",
       " 'a',\n",
       " 'anand',\n",
       " 45,\n",
       " 'India',\n",
       " 34.56,\n",
       " 98,\n",
       " True,\n",
       " False,\n",
       " 'Aakriti singh']"
      ]
     },
     "execution_count": 50,
     "metadata": {},
     "output_type": "execute_result"
    }
   ],
   "source": [
    "list_items"
   ]
  },
  {
   "cell_type": "code",
   "execution_count": 51,
   "id": "c0f322be",
   "metadata": {},
   "outputs": [],
   "source": [
    "## How can we add more items at the end of the list? solution below"
   ]
  },
  {
   "cell_type": "code",
   "execution_count": 52,
   "id": "d754db0d",
   "metadata": {},
   "outputs": [],
   "source": [
    "list_items.append([\"Uday\",26])"
   ]
  },
  {
   "cell_type": "code",
   "execution_count": 53,
   "id": "4da26f24",
   "metadata": {},
   "outputs": [
    {
     "data": {
      "text/plain": [
       "['hello',\n",
       " 55,\n",
       " 67.53,\n",
       " 'a',\n",
       " 'anand',\n",
       " 45,\n",
       " 'India',\n",
       " 34.56,\n",
       " 98,\n",
       " True,\n",
       " False,\n",
       " 'Aakriti singh',\n",
       " ['Uday', 26]]"
      ]
     },
     "execution_count": 53,
     "metadata": {},
     "output_type": "execute_result"
    }
   ],
   "source": [
    "list_items"
   ]
  },
  {
   "cell_type": "code",
   "execution_count": 54,
   "id": "9f33539c",
   "metadata": {},
   "outputs": [
    {
     "data": {
      "text/plain": [
       "26"
      ]
     },
     "execution_count": 54,
     "metadata": {},
     "output_type": "execute_result"
    }
   ],
   "source": [
    "list_items[12][1]    ## to access elements of list inside list, use square bracket [] twice."
   ]
  },
  {
   "cell_type": "markdown",
   "id": "104bdf20",
   "metadata": {},
   "source": [
    "# Insert command"
   ]
  },
  {
   "cell_type": "code",
   "execution_count": 55,
   "id": "fc1f51e4",
   "metadata": {},
   "outputs": [],
   "source": [
    "## i want to add index number 3 , then follow the below steps"
   ]
  },
  {
   "cell_type": "code",
   "execution_count": 56,
   "id": "24292b39",
   "metadata": {},
   "outputs": [],
   "source": [
    "list_items.insert(2,\"INDIA\")       ## insert INDIA after the 2nd item"
   ]
  },
  {
   "cell_type": "code",
   "execution_count": 57,
   "id": "1383f179",
   "metadata": {},
   "outputs": [
    {
     "data": {
      "text/plain": [
       "['hello',\n",
       " 55,\n",
       " 'INDIA',\n",
       " 67.53,\n",
       " 'a',\n",
       " 'anand',\n",
       " 45,\n",
       " 'India',\n",
       " 34.56,\n",
       " 98,\n",
       " True,\n",
       " False,\n",
       " 'Aakriti singh',\n",
       " ['Uday', 26]]"
      ]
     },
     "execution_count": 57,
     "metadata": {},
     "output_type": "execute_result"
    }
   ],
   "source": [
    "list_items"
   ]
  },
  {
   "cell_type": "code",
   "execution_count": 58,
   "id": "0feca796",
   "metadata": {},
   "outputs": [],
   "source": [
    "list_items.insert(5,\"Vaishnavi\")"
   ]
  },
  {
   "cell_type": "code",
   "execution_count": 59,
   "id": "97b56f18",
   "metadata": {},
   "outputs": [
    {
     "data": {
      "text/plain": [
       "['hello',\n",
       " 55,\n",
       " 'INDIA',\n",
       " 67.53,\n",
       " 'a',\n",
       " 'Vaishnavi',\n",
       " 'anand',\n",
       " 45,\n",
       " 'India',\n",
       " 34.56,\n",
       " 98,\n",
       " True,\n",
       " False,\n",
       " 'Aakriti singh',\n",
       " ['Uday', 26]]"
      ]
     },
     "execution_count": 59,
     "metadata": {},
     "output_type": "execute_result"
    }
   ],
   "source": [
    "list_items     ## it doesnt replace, other items just shifts there place."
   ]
  },
  {
   "cell_type": "code",
   "execution_count": 60,
   "id": "ffd752da",
   "metadata": {},
   "outputs": [],
   "source": [
    "list_items.insert(7,[\"Bal\",\"Raj\",98.76])"
   ]
  },
  {
   "cell_type": "code",
   "execution_count": 61,
   "id": "4bb642c5",
   "metadata": {},
   "outputs": [
    {
     "data": {
      "text/plain": [
       "['hello',\n",
       " 55,\n",
       " 'INDIA',\n",
       " 67.53,\n",
       " 'a',\n",
       " 'Vaishnavi',\n",
       " 'anand',\n",
       " ['Bal', 'Raj', 98.76],\n",
       " 45,\n",
       " 'India',\n",
       " 34.56,\n",
       " 98,\n",
       " True,\n",
       " False,\n",
       " 'Aakriti singh',\n",
       " ['Uday', 26]]"
      ]
     },
     "execution_count": 61,
     "metadata": {},
     "output_type": "execute_result"
    }
   ],
   "source": [
    "list_items "
   ]
  },
  {
   "cell_type": "code",
   "execution_count": 62,
   "id": "92685210",
   "metadata": {},
   "outputs": [
    {
     "data": {
      "text/plain": [
       "'Raj'"
      ]
     },
     "execution_count": 62,
     "metadata": {},
     "output_type": "execute_result"
    }
   ],
   "source": [
    "list_items[7][1]   ## to check elemets present in list inside list"
   ]
  },
  {
   "cell_type": "markdown",
   "id": "c84e8320",
   "metadata": {},
   "source": [
    "# REPLACE FUNCTION is not present in Python for list Object"
   ]
  },
  {
   "cell_type": "code",
   "execution_count": 63,
   "id": "d9b521c2",
   "metadata": {},
   "outputs": [],
   "source": [
    "list_items[2] = \"Replace\""
   ]
  },
  {
   "cell_type": "code",
   "execution_count": 64,
   "id": "c6ac5c6b",
   "metadata": {},
   "outputs": [
    {
     "data": {
      "text/plain": [
       "['hello',\n",
       " 55,\n",
       " 'Replace',\n",
       " 67.53,\n",
       " 'a',\n",
       " 'Vaishnavi',\n",
       " 'anand',\n",
       " ['Bal', 'Raj', 98.76],\n",
       " 45,\n",
       " 'India',\n",
       " 34.56,\n",
       " 98,\n",
       " True,\n",
       " False,\n",
       " 'Aakriti singh',\n",
       " ['Uday', 26]]"
      ]
     },
     "execution_count": 64,
     "metadata": {},
     "output_type": "execute_result"
    }
   ],
   "source": [
    "list_items       ## you can change values by assigning positions rather than replacing it."
   ]
  },
  {
   "cell_type": "code",
   "execution_count": 65,
   "id": "d7eb44df",
   "metadata": {},
   "outputs": [],
   "source": [
    "## hot favourite question asked in interview : difference between append and extend"
   ]
  },
  {
   "cell_type": "markdown",
   "id": "b0243c55",
   "metadata": {},
   "source": [
    "# EXTEND FUNCTION"
   ]
  },
  {
   "cell_type": "code",
   "execution_count": 66,
   "id": "b8f48cc6",
   "metadata": {},
   "outputs": [],
   "source": [
    "s = [1,2,3,4,5,6]"
   ]
  },
  {
   "cell_type": "code",
   "execution_count": 67,
   "id": "0550db13",
   "metadata": {},
   "outputs": [],
   "source": [
    "s.append([1,2,3,4,5,6,7])     ## wraps up the element as it is gets added at the end of the list"
   ]
  },
  {
   "cell_type": "code",
   "execution_count": 68,
   "id": "304f8d57",
   "metadata": {},
   "outputs": [
    {
     "data": {
      "text/plain": [
       "[1, 2, 3, 4, 5, 6, [1, 2, 3, 4, 5, 6, 7]]"
      ]
     },
     "execution_count": 68,
     "metadata": {},
     "output_type": "execute_result"
    }
   ],
   "source": [
    "s"
   ]
  },
  {
   "cell_type": "code",
   "execution_count": 69,
   "id": "e3f34d29",
   "metadata": {},
   "outputs": [],
   "source": [
    "s.extend([6,7,8,\"dss\"])"
   ]
  },
  {
   "cell_type": "code",
   "execution_count": 70,
   "id": "e0824224",
   "metadata": {},
   "outputs": [
    {
     "data": {
      "text/plain": [
       "[1, 2, 3, 4, 5, 6, [1, 2, 3, 4, 5, 6, 7], 6, 7, 8, 'dss']"
      ]
     },
     "execution_count": 70,
     "metadata": {},
     "output_type": "execute_result"
    }
   ],
   "source": [
    "s"
   ]
  },
  {
   "cell_type": "code",
   "execution_count": 71,
   "id": "3dba1d71",
   "metadata": {},
   "outputs": [],
   "source": [
    "## difference between append and extend = extend adds elements individually unlike append"
   ]
  },
  {
   "cell_type": "code",
   "execution_count": 72,
   "id": "6780d612",
   "metadata": {},
   "outputs": [
    {
     "data": {
      "text/plain": [
       "4"
      ]
     },
     "execution_count": 72,
     "metadata": {},
     "output_type": "execute_result"
    }
   ],
   "source": [
    "s.index(5)       ## always picks the first occurences"
   ]
  },
  {
   "cell_type": "code",
   "execution_count": 73,
   "id": "d1ad6d06",
   "metadata": {},
   "outputs": [
    {
     "data": {
      "text/plain": [
       "['hello',\n",
       " 55,\n",
       " 'Replace',\n",
       " 67.53,\n",
       " 'a',\n",
       " 'Vaishnavi',\n",
       " 'anand',\n",
       " ['Bal', 'Raj', 98.76],\n",
       " 45,\n",
       " 'India',\n",
       " 34.56,\n",
       " 98,\n",
       " True,\n",
       " False,\n",
       " 'Aakriti singh',\n",
       " ['Uday', 26]]"
      ]
     },
     "execution_count": 73,
     "metadata": {},
     "output_type": "execute_result"
    }
   ],
   "source": [
    "list_items"
   ]
  },
  {
   "cell_type": "code",
   "execution_count": 74,
   "id": "1665bb9e",
   "metadata": {},
   "outputs": [
    {
     "data": {
      "text/plain": [
       "[['Uday', 26],\n",
       " 'Aakriti singh',\n",
       " False,\n",
       " True,\n",
       " 98,\n",
       " 34.56,\n",
       " 'India',\n",
       " 45,\n",
       " ['Bal', 'Raj', 98.76],\n",
       " 'anand',\n",
       " 'Vaishnavi',\n",
       " 'a',\n",
       " 67.53,\n",
       " 'Replace',\n",
       " 55,\n",
       " 'hello']"
      ]
     },
     "execution_count": 74,
     "metadata": {},
     "output_type": "execute_result"
    }
   ],
   "source": [
    "list_items[::-1]"
   ]
  },
  {
   "cell_type": "markdown",
   "id": "af5b063e",
   "metadata": {},
   "source": [
    "# REVERSE FUNCTION"
   ]
  },
  {
   "cell_type": "code",
   "execution_count": 75,
   "id": "096ba631",
   "metadata": {},
   "outputs": [],
   "source": [
    "list_items_rev = list_items[::-1]"
   ]
  },
  {
   "cell_type": "code",
   "execution_count": 85,
   "id": "ce583af8",
   "metadata": {},
   "outputs": [],
   "source": [
    "list_reverse = list_items.reverse()"
   ]
  },
  {
   "cell_type": "code",
   "execution_count": 86,
   "id": "926c4ce4",
   "metadata": {},
   "outputs": [
    {
     "name": "stdout",
     "output_type": "stream",
     "text": [
      "['hello', 55, 67.53, 'a', 'anand', 45, 'India', 34.56, 98, True, False]\n"
     ]
    }
   ],
   "source": [
    "print(list_items)   ## need to check this"
   ]
  },
  {
   "cell_type": "code",
   "execution_count": 87,
   "id": "7642dd3b",
   "metadata": {},
   "outputs": [],
   "source": [
    "list_items.reverse()"
   ]
  },
  {
   "cell_type": "code",
   "execution_count": null,
   "id": "e1819e4c",
   "metadata": {},
   "outputs": [],
   "source": []
  },
  {
   "cell_type": "markdown",
   "id": "9b342ffd",
   "metadata": {},
   "source": [
    "# sorting elements"
   ]
  },
  {
   "cell_type": "code",
   "execution_count": 88,
   "id": "7354939a",
   "metadata": {},
   "outputs": [],
   "source": [
    "list_items2 = [\"aakriti\",\"uday\",\"yash\",45,40]"
   ]
  },
  {
   "cell_type": "code",
   "execution_count": 89,
   "id": "10c1c61c",
   "metadata": {},
   "outputs": [],
   "source": [
    "list_items2_reverse = list_items2.reverse()"
   ]
  },
  {
   "cell_type": "code",
   "execution_count": 90,
   "id": "d4dbcde2",
   "metadata": {},
   "outputs": [
    {
     "name": "stdout",
     "output_type": "stream",
     "text": [
      "[40, 45, 'yash', 'uday', 'aakriti']\n"
     ]
    }
   ],
   "source": [
    "print(list_items2)"
   ]
  },
  {
   "cell_type": "code",
   "execution_count": 114,
   "id": "addc088d",
   "metadata": {},
   "outputs": [],
   "source": [
    "list_items2 = [\"aakriti\",\"uday\",\"yash\"]"
   ]
  },
  {
   "cell_type": "code",
   "execution_count": 106,
   "id": "8bd1e2e2",
   "metadata": {},
   "outputs": [],
   "source": [
    "list_items2_sorted = list_items2.sort()"
   ]
  },
  {
   "cell_type": "code",
   "execution_count": 120,
   "id": "2156430b",
   "metadata": {},
   "outputs": [
    {
     "data": {
      "text/plain": [
       "['yash', 'uday', 'aakriti']"
      ]
     },
     "execution_count": 120,
     "metadata": {},
     "output_type": "execute_result"
    }
   ],
   "source": [
    "sorted(list_items2,reverse = True)"
   ]
  },
  {
   "cell_type": "code",
   "execution_count": 121,
   "id": "9a06921f",
   "metadata": {},
   "outputs": [],
   "source": [
    "## sorted func doesn't work on mix data type"
   ]
  },
  {
   "cell_type": "code",
   "execution_count": 122,
   "id": "00544810",
   "metadata": {},
   "outputs": [],
   "source": [
    "list_item_num = [2,3,5,6,77,8]"
   ]
  },
  {
   "cell_type": "code",
   "execution_count": 124,
   "id": "d4e186e7",
   "metadata": {},
   "outputs": [],
   "source": [
    "list_items_sort_asc = sorted(list_item_num)\n",
    "list_items_sort_dsc = sorted(list_item_num,reverse = True)"
   ]
  },
  {
   "cell_type": "code",
   "execution_count": 125,
   "id": "b65e991f",
   "metadata": {},
   "outputs": [
    {
     "name": "stdout",
     "output_type": "stream",
     "text": [
      "[2, 3, 5, 6, 8, 77]\n",
      "[77, 8, 6, 5, 3, 2]\n"
     ]
    }
   ],
   "source": [
    "print(list_items_sort_asc)\n",
    "print(list_items_sort_dsc)"
   ]
  },
  {
   "cell_type": "code",
   "execution_count": 129,
   "id": "3c6fd56b",
   "metadata": {},
   "outputs": [
    {
     "name": "stdout",
     "output_type": "stream",
     "text": [
      "['y', 'a', 'd', 'u']\n"
     ]
    }
   ],
   "source": [
    "print(list(reversed(\"uday\")))"
   ]
  },
  {
   "cell_type": "code",
   "execution_count": null,
   "id": "23c6ef8b",
   "metadata": {},
   "outputs": [],
   "source": []
  }
 ],
 "metadata": {
  "kernelspec": {
   "display_name": "Python 3 (ipykernel)",
   "language": "python",
   "name": "python3"
  },
  "language_info": {
   "codemirror_mode": {
    "name": "ipython",
    "version": 3
   },
   "file_extension": ".py",
   "mimetype": "text/x-python",
   "name": "python",
   "nbconvert_exporter": "python",
   "pygments_lexer": "ipython3",
   "version": "3.9.12"
  }
 },
 "nbformat": 4,
 "nbformat_minor": 5
}
